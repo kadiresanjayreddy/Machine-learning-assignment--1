{
 "cells": [
  {
   "cell_type": "code",
   "execution_count": 1,
   "metadata": {},
   "outputs": [
    {
     "name": "stdout",
     "output_type": "stream",
     "text": [
      "Sorted List:  [19, 19, 20, 22, 24, 24, 24, 25, 25, 26]\n",
      "Ages list after appending min age and max age again:  [19, 19, 20, 22, 24, 24, 24, 25, 25, 26, 19, 26]\n",
      "Median of the ages:  24.0\n",
      "Average age is:  22.75\n",
      "Range of ages:  7\n"
     ]
    }
   ],
   "source": [
    "# Question - 1\n",
    "\n",
    "# Declaring and assigning the values\n",
    "ages = [19, 22, 19, 24, 20, 25, 26, 24, 25, 24]\n",
    "\n",
    "# Sorting the list\n",
    "ages.sort()\n",
    "# Printing the sorted list\n",
    "print('Sorted List: ',ages)\n",
    "\n",
    "# appending the ages according to the minimum and maximum ages\n",
    "ages.append(min(ages))\n",
    "ages.append(max(ages))\n",
    "print('Ages list after appending min age and max age again: ', ages)\n",
    "\n",
    "# calculating the median of ages\n",
    "def find_median(data):\n",
    "  data = sorted(data)\n",
    "  index = len(data)\n",
    "  if(index % 2 != 0):\n",
    "    return data[index // 2]\n",
    "  return (data[index // 2] + data[index // 2 - 1]) / 2\n",
    "\n",
    "print('Median of the ages: ', find_median(ages))\n",
    "\n",
    "# Average age\n",
    "print('Average age is: ', sum(ages) / len(ages))\n",
    "\n",
    "# Range of ages: max age - min age\n",
    "print('Range of ages: ', max(ages) - min(ages))"
   ]
  },
  {
   "cell_type": "code",
   "execution_count": 3,
   "metadata": {},
   "outputs": [
    {
     "name": "stdout",
     "output_type": "stream",
     "text": [
      "{'name': 'robbin', 'color': 'Black', 'breed': 'German Shepherd', 'legs': 4, 'age': 7}\n",
      "Length of Student dictionary is:  9\n",
      "Skills:  ['JavaScript', 'React'] and the data type of Skills is:  <class 'list'>\n",
      "Skills after modifying:  ['JavaScript', 'React', 'MongoDB']\n",
      "student dictionary keys are:  ['first_name', 'last_name', 'gender', 'age', 'martial_status', 'skills', 'country', 'city', 'address']\n",
      "student dictionary values are:  ['Sanjay Kumar', 'kadire', 'male', 22, 'single', ['JavaScript', 'React', 'MongoDB'], 'India', 'Hyderabad', '4-24/12, Bhageeratha Colony']\n"
     ]
    }
   ],
   "source": [
    "# Question - 2\n",
    "\n",
    "# Declaring an empty dictionary named dog.\n",
    "dog = {}\n",
    "\n",
    "# Adding name, color, breed, legs, age to the dog dictionary.\n",
    "dog = { 'name': 'robbin', 'color': 'Black', 'breed': 'German Shepherd', 'legs': 4, 'age': 7 }\n",
    "print(dog)\n",
    "\n",
    "# Creating a dictionary named student and adding relevant data to it.\n",
    "student = { \n",
    "    'first_name': 'Sanjay Kumar', 'last_name': 'kadire', \"gender\": 'male', 'age': 22, \n",
    "    'martial_status': 'single', 'skills': ['JavaScript', 'React'], 'country': 'India', 'city': 'Hyderabad', 'address': '4-24/12, Bhageeratha Colony' \n",
    "    }\n",
    "\n",
    "# Length of the student dictionary.\n",
    "print('Length of Student dictionary is: ', len(student))\n",
    "\n",
    "# Getting the value of skills key in student dictionary and checkin its data type.\n",
    "print('Skills: ', student['skills'], 'and the data type of Skills is: ', type(student['skills']))\n",
    "\n",
    "# Modifying the skills value in student dictionary by adding one/two values.\n",
    "student['skills'].append('MongoDB')\n",
    "print('Skills after modifying: ', student['skills'])\n",
    "\n",
    "# Dictionary keys as a list.\n",
    "student_dict_keys = list(student.keys())\n",
    "print('student dictionary keys are: ', student_dict_keys)\n",
    "\n",
    "# Dictionary values as a list.\n",
    "student_dict_values = list(student.values())\n",
    "print('student dictionary values are: ', student_dict_values)"
   ]
  },
  {
   "cell_type": "code",
   "execution_count": 5,
   "metadata": {},
   "outputs": [
    {
     "name": "stdout",
     "output_type": "stream",
     "text": [
      "Siblings are:  ('srinivas', 'sanjay', 'santosh', 'grace', 'bailey')\n",
      "Total no. of siblings are:  5\n",
      "Family members are:  ('srinivas', 'sanjay', 'santosh', 'grace', 'bailey', 'mike', 'Robert')\n"
     ]
    }
   ],
   "source": [
    "# Question - 3\n",
    "\n",
    "# Creating two tuples named brothers and sisters respectively.\n",
    "brothers = ('srinivas', 'sanjay', 'santosh')\n",
    "sisters = ('grace', 'bailey')\n",
    "\n",
    "# combining both brothers and sisters tuples and assigning it to siblings tuple\n",
    "siblings =  brothers + sisters\n",
    "print('Siblings are: ', siblings)\n",
    "\n",
    "# Length of the siblings tuple.\n",
    "print('Total no. of siblings are: ', len(siblings))\n",
    "\n",
    "# Modifying siblings tuple and assigning it to family_members tuple.\n",
    "siblings = siblings + ('mike', 'Robert')\n",
    "family_members = siblings\n",
    "print('Family members are: ', family_members)"
   ]
  },
  {
   "cell_type": "code",
   "execution_count": 6,
   "metadata": {},
   "outputs": [
    {
     "name": "stdout",
     "output_type": "stream",
     "text": [
      "Length of set it_companies is:  7\n",
      "New it_companies are:  {'Amazon', 'Twitter', 'Apple', 'Google', 'Facebook', 'IBM', 'Microsoft', 'Oracle'}\n",
      "After adding multiple IT companies:  {'Apple', 'Facebook', 'IBM', 'Oracle', 'TCS', 'Flipkart, Infosys', 'Twitter', 'Amazon', 'Microsoft', 'Google'}\n",
      "After removing a value:  {'Apple', 'Facebook', 'Oracle', 'TCS', 'Flipkart, Infosys', 'Twitter', 'Amazon', 'Microsoft', 'Google'}\n",
      "Union of A and B:  {19, 20, 22, 24, 25, 26, 27, 28}\n",
      "Intersection of A and B:  {19, 20, 22, 24, 25, 26}\n",
      "A is a subset of B:  True\n",
      "A and B are disjoint sets:  False\n",
      "Symmetrice difference between A and B:  {27, 28}\n",
      "Deleting set A:  None and set B:  None\n",
      "After converting list to set:  {19, 22, 24, 25, 26}\n",
      "Difference between length of list and set:  3\n"
     ]
    }
   ],
   "source": [
    "# Question - 4\n",
    "\n",
    "# Data given\n",
    "it_companies = {'Facebook', 'Google', 'Microsoft', 'Apple', 'IBM', 'Oracle', 'Amazon'}\n",
    "A = {19, 22, 24, 20, 25, 26}\n",
    "B = {19, 22, 20, 25, 26, 24, 28, 27}\n",
    "age = [22, 19, 24, 25, 26, 24, 25, 24]\n",
    "\n",
    "# Finding the length of the set it_companies.\n",
    "print('Length of set it_companies is: ', len(it_companies))\n",
    "\n",
    "# Adding Twitter to it_companies.\n",
    "it_companies.add('Twitter')\n",
    "print('New it_companies are: ', it_companies)\n",
    "\n",
    "# Inserting multiple values to the set it_companies all at once.\n",
    "it_companies.update(['Flipkart, Infosys', 'TCS'])\n",
    "print('After adding multiple IT companies: ', it_companies)\n",
    "\n",
    "# Removing a value using remove method.\n",
    "it_companies.remove('IBM')\n",
    "print('After removing a value: ', it_companies)\n",
    "\n",
    "# Combining sets A and B\n",
    "C = A.union(B)\n",
    "print('Union of A and B: ', C)\n",
    "\n",
    "# Intersecting A and B\n",
    "D = A.intersection(B)\n",
    "print('Intersection of A and B: ', D)\n",
    "\n",
    "# Finding if A is a subset of B.\n",
    "print('A is a subset of B: ', A.issubset(B))\n",
    "\n",
    "# Finding if A and B are disjoints or not.\n",
    "print('A and B are disjoint sets: ', A.isdisjoint(B))\n",
    "\n",
    "# Symmetric difference between A and B\n",
    "print('Symmetrice difference between A and B: ', A.symmetric_difference(B))\n",
    "\n",
    "# Deleting sets A and B\n",
    "print('Deleting set A: ', A.clear(),'and set B: ', B.clear())\n",
    "\n",
    "# Converting ages to a set\n",
    "ages_set = set(age)\n",
    "print('After converting list to set: ', ages_set)\n",
    "\n",
    "# Comparing the length of the list and the set\n",
    "print('Difference between length of list and set: ', len(age) - len(ages_set))\n"
   ]
  },
  {
   "cell_type": "code",
   "execution_count": 8,
   "metadata": {},
   "outputs": [
    {
     "name": "stdout",
     "output_type": "stream",
     "text": [
      "Area of Circle with 30m radius is: 2826.0m\n",
      "Circumference of Circle with 30m radius is: 188.4m\n",
      "Given radius: 30\n",
      "Area of Circle is: 2826.0\n"
     ]
    }
   ],
   "source": [
    "# Question - 5\n",
    "\n",
    "# the radius is given in meters\n",
    "radius_of_circle = 30\n",
    "PI = 3.14\n",
    "\n",
    "# Standard math formula for area of a circle is: pi * radius * radius of circle\n",
    "_area_of_circle_ = PI * (radius_of_circle ** 2)\n",
    "print(f'Area of Circle with {radius_of_circle}m radius is: {_area_of_circle_}m')\n",
    "\n",
    "# Standard math formula for circumference of a circle is: 2 * pi * radius of circle\n",
    "_circum_of_circle_ = 2 * PI * radius_of_circle\n",
    "print(f'Circumference of Circle with {radius_of_circle}m radius is: {_circum_of_circle_}m')\n",
    "\n",
    "# Taking radius from user input  and calculating the area of the circle\n",
    "user_given_radius = int(input('Enter the radius of circle'))\n",
    "print(f'Given radius: {user_given_radius}')\n",
    "user_circle_area = PI * (user_given_radius ** 2)\n",
    "print(f'Area of Circle is: {user_circle_area}')"
   ]
  },
  {
   "cell_type": "code",
   "execution_count": 9,
   "metadata": {},
   "outputs": [
    {
     "name": "stdout",
     "output_type": "stream",
     "text": [
      "unique words:  {'a', 'and', 'love', 'to', 'I', 'inspire', 'people', 'teach', 'am', 'teacher'}\n",
      "Total no. of unique words:  10\n"
     ]
    }
   ],
   "source": [
    "# Question - 6\n",
    "\n",
    "str = 'I am a teacher and I love to inspire and teach people'\n",
    "\n",
    "# we are using split method here.\n",
    "# Splitting a string into a list using the whitespace separator as the default\n",
    "# The duplicate values are then removed from the list by converting it to a set, and the result is saved in the variable unique words in sentence.\n",
    "unique_words_in_sentence =  set(str.split())\n",
    "print('unique words: ',unique_words_in_sentence)\n",
    "\n",
    "# Using the length method, we are calculating the total no. of unique words\n",
    "print('Total no. of unique words: ', len(unique_words_in_sentence))"
   ]
  },
  {
   "cell_type": "code",
   "execution_count": 11,
   "metadata": {},
   "outputs": [
    {
     "name": "stdout",
     "output_type": "stream",
     "text": [
      "Name\tAge\tCountry\tCity\n",
      "Sanjay\t22\tIndia\tHyderabad\n"
     ]
    }
   ],
   "source": [
    "# Question - 7\n",
    "\n",
    "print('Name\\tAge\\tCountry\\tCity\\nSanjay\\t22\\tIndia\\tHyderabad')"
   ]
  },
  {
   "cell_type": "code",
   "execution_count": 12,
   "metadata": {},
   "outputs": [
    {
     "name": "stdout",
     "output_type": "stream",
     "text": [
      "The area of a circle with radius 10 is 314.0 meters square.\n"
     ]
    }
   ],
   "source": [
    "# Question -  8\n",
    "\n",
    "radius = 10\n",
    "\n",
    "area = 3.14 * radius ** 2\n",
    "\n",
    "# Using the String formatting method, we are inserting the radius and area here.\n",
    "print(\"The area of a circle with radius %s is %s meters square.\" %(radius,area)) "
   ]
  },
  {
   "cell_type": "code",
   "execution_count": 18,
   "metadata": {},
   "outputs": [
    {
     "name": "stdout",
     "output_type": "stream",
     "text": [
      "Students weight in lbs:  [10, 20, 30]\n",
      "Students weight in kgs:  [4.535, 9.07, 13.605]\n"
     ]
    }
   ],
   "source": [
    "# Question - 9\n",
    "# A program that, given user inputs, converts pounds to kilograms for an infinite number of students\n",
    "# Here, we are typecasting a user's multiple inputs in pounds into a list.\n",
    "students_weight_in_lbs = list(map(int, input(\"Enter students weight: \").split()))\n",
    "\n",
    "students_weight_in_kgs = []\n",
    "\n",
    "#We multiply each student's weight in pounds by 0.4535 kg and store it in another list\n",
    "# Here 1lb = 0.4535kg\n",
    "for i in students_weight_in_lbs:\n",
    "    lbs_to_kgs = i * 0.4535\n",
    "    students_weight_in_kgs.append(lbs_to_kgs)\n",
    "\n",
    "print('Students weight in lbs: ', students_weight_in_lbs)\n",
    "print('Students weight in kgs: ', students_weight_in_kgs)"
   ]
  }
 ],
 "metadata": {
  "kernelspec": {
   "display_name": "Python 3",
   "language": "python",
   "name": "python3"
  },
  "language_info": {
   "codemirror_mode": {
    "name": "ipython",
    "version": 3
   },
   "file_extension": ".py",
   "mimetype": "text/x-python",
   "name": "python",
   "nbconvert_exporter": "python",
   "pygments_lexer": "ipython3",
   "version": "3.10.9"
  },
  "orig_nbformat": 4,
  "vscode": {
   "interpreter": {
    "hash": "a3aab4919540bf3b8b93c0c60e84dfd5b3088439627f5f906b230c37ede04daf"
   }
  }
 },
 "nbformat": 4,
 "nbformat_minor": 2
}
